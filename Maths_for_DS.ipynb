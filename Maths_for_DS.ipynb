{
 "cells": [
  {
   "cell_type": "markdown",
   "id": "de781286",
   "metadata": {},
   "source": [
    "## Table of contents:\n",
    "\n",
    "---\n",
    "\n",
    "### 🧮 **Essential Math Topics for Data Science** - 20 chapters\n",
    "\n",
    "#### 1. **Arithmetic & Algebra (Foundational)**\n",
    "#### Source: https://www.khanacademy.org/math/algebra-home/alg-intro-to-algebra\n",
    "* Logarithms and exponents\n",
    "\n",
    "#### 2. **Linear Algebra (Important for Machine Learning & Data Representation)** -3 chapters\n",
    "#### Source: https://www.khanacademy.org/math/algebra-home\n",
    "\n",
    "* Scalars, vectors, matrices\n",
    "* Matrix operations (addition, multiplication, transpose, inverse)\n",
    "* Systems of linear equations\n",
    "* Eigenvalues and eigenvectors\n",
    "* Dot product and projections\n",
    "\n",
    "#### 3. **Calculus (Useful but not always essential at first)** - 8 chapters\n",
    "#### Source: https://www.khanacademy.org/math/calculus-1\n",
    "\n",
    "* Limits and derivatives (basic understanding)\n",
    "* Partial derivatives\n",
    "* Gradient descent (for optimization)\n",
    "* Integrals (basic idea)\n",
    "* Multivariable calculus (optional, but helpful for deep learning)\n",
    "\n",
    "#### 4. **Statistics & Probability (Core for Data Science)** 7 - chapters\n",
    "#### Source: https://www.khanacademy.org/math/statistics-probability\n",
    "\n",
    "* Descriptive statistics (mean, median, mode, variance, standard deviation)\n",
    "* Probability theory (independent/dependent events, Bayes’ theorem)\n",
    "* Distributions (Normal, Binomial, Poisson)\n",
    "* Sampling and Central Limit Theorem\n",
    "* Confidence intervals and hypothesis testing\n",
    "\n",
    "\n"
   ]
  }
 ],
 "metadata": {
  "kernelspec": {
   "display_name": ".DS_beginner",
   "language": "python",
   "name": "python3"
  },
  "language_info": {
   "name": "python",
   "version": "3.11.6"
  }
 },
 "nbformat": 4,
 "nbformat_minor": 5
}
