{
 "cells": [
  {
   "cell_type": "markdown",
   "id": "cab29905",
   "metadata": {},
   "source": [
    "#  <b> This is the introductory course of mathematics for data science ☺️ 🧮\n"
   ]
  },
  {
   "cell_type": "markdown",
   "id": "eb50491c",
   "metadata": {},
   "source": [
    "## Table of contents:\n",
    "\n",
    "---\n",
    "\n",
    "### 🧮 **Essential Math Topics for Data Science**\n",
    "\n",
    "#### 1. **Arithmetic & Algebra (Foundational)**\n",
    "\n",
    "* Logarithms and exponents\n",
    "\n",
    "#### 2. **Linear Algebra (Important for Machine Learning & Data Representation)**\n",
    "\n",
    "* Scalars, vectors, matrices\n",
    "* Matrix operations (addition, multiplication, transpose, inverse)\n",
    "* Systems of linear equations\n",
    "* Eigenvalues and eigenvectors\n",
    "* Dot product and projections\n",
    "\n",
    "#### 3. **Calculus (Useful but not always essential at first)**\n",
    "\n",
    "* Limits and derivatives (basic understanding)\n",
    "* Partial derivatives\n",
    "* Gradient descent (for optimization)\n",
    "* Integrals (basic idea)\n",
    "* Multivariable calculus (optional, but helpful for deep learning)\n",
    "\n",
    "#### 4. **Statistics & Probability (Core for Data Science)**\n",
    "\n",
    "* Descriptive statistics (mean, median, mode, variance, standard deviation)\n",
    "* Probability theory (independent/dependent events, Bayes’ theorem)\n",
    "* Distributions (Normal, Binomial, Poisson)\n",
    "* Sampling and Central Limit Theorem\n",
    "* Confidence intervals and hypothesis testing\n",
    "\n",
    "\n",
    "#### 5. **Discrete Mathematics (Optional but Helpful)**\n",
    "\n",
    "* Sets and logic\n",
    "* Graph theory basics\n",
    "* Boolean algebra\n",
    "\n",
    "---\n",
    "\n"
   ]
  },
  {
   "cell_type": "markdown",
   "id": "f898228b",
   "metadata": {},
   "source": []
  }
 ],
 "metadata": {
  "language_info": {
   "name": "python"
  }
 },
 "nbformat": 4,
 "nbformat_minor": 5
}
