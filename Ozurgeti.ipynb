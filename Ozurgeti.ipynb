{
 "cells": [
  {
   "cell_type": "markdown",
   "id": "caa681d3",
   "metadata": {},
   "source": []
  },
  {
   "cell_type": "code",
   "execution_count": 148,
   "id": "8daed0bc",
   "metadata": {},
   "outputs": [],
   "source": [
    "import pandas as pd\n",
    "import re"
   ]
  },
  {
   "cell_type": "code",
   "execution_count": 149,
   "id": "e4622cba",
   "metadata": {},
   "outputs": [],
   "source": [
    "data =pd.read_excel('Ozurgeti.xlsx')                   "
   ]
  },
  {
   "cell_type": "code",
   "execution_count": 150,
   "id": "4b6eeb63",
   "metadata": {},
   "outputs": [
    {
     "data": {
      "text/plain": [
       "Index(['საიდენტიფიკაციო ნომერი', 'პირადი ნომერი',\n",
       "       'ორგანიზაციულ-სამართლებრივი ფორმა', 'სუბიექტის დასახელება',\n",
       "       'რეგიონი (იურიდიული)', 'მუნიციპალიტეტი/ქალაქი (იურიდიული)',\n",
       "       'დაბის/თემის/სოფლის საკრებულო (იურიდიული)', 'დაბა/სოფელი (იურიდიული)',\n",
       "       'იურიდიული მისამართი', 'რეგიონი (ფაქტობრივი)',\n",
       "       'მუნიციპალიტეტი/ქალაქი (ფაქტობრივი)',\n",
       "       'დაბის/თემის/სოფლის საკრებულო (ფაქტობრივი)', 'დაბა/სოფელი (ფაქტობრივი)',\n",
       "       'ფაქტობრივი მისამართი', 'საქმიანობის კოდი NACE Rev.2',\n",
       "       'საქმიანობის დასახელება NACE Rev.2', 'პარტნიორი', 'ხელმძღვანელი',\n",
       "       'ტელეფონი', 'ელფოსტა', 'საკუთრების ფორმა',\n",
       "       'აქტიური ეკონომიკური სუბიექტები', 'ბიზნესის ზომა'],\n",
       "      dtype='object')"
      ]
     },
     "execution_count": 150,
     "metadata": {},
     "output_type": "execute_result"
    }
   ],
   "source": [
    "data.head(4)\n",
    "data.columns"
   ]
  },
  {
   "cell_type": "code",
   "execution_count": 151,
   "id": "1fec07ff",
   "metadata": {},
   "outputs": [
    {
     "data": {
      "text/html": [
       "<div>\n",
       "<style scoped>\n",
       "    .dataframe tbody tr th:only-of-type {\n",
       "        vertical-align: middle;\n",
       "    }\n",
       "\n",
       "    .dataframe tbody tr th {\n",
       "        vertical-align: top;\n",
       "    }\n",
       "\n",
       "    .dataframe thead th {\n",
       "        text-align: right;\n",
       "    }\n",
       "</style>\n",
       "<table border=\"1\" class=\"dataframe\">\n",
       "  <thead>\n",
       "    <tr style=\"text-align: right;\">\n",
       "      <th></th>\n",
       "      <th>საიდენტიფიკაციო ნომერი</th>\n",
       "      <th>პირადი ნომერი</th>\n",
       "      <th>ორგანიზაციულ-სამართლებრივი ფორმა</th>\n",
       "      <th>სუბიექტის დასახელება</th>\n",
       "      <th>რეგიონი (იურიდიული)</th>\n",
       "      <th>მუნიციპალიტეტი/ქალაქი (იურიდიული)</th>\n",
       "      <th>დაბის/თემის/სოფლის საკრებულო (იურიდიული)</th>\n",
       "      <th>დაბა/სოფელი (იურიდიული)</th>\n",
       "      <th>იურიდიული მისამართი</th>\n",
       "      <th>რეგიონი (ფაქტობრივი)</th>\n",
       "      <th>...</th>\n",
       "      <th>ფაქტობრივი მისამართი</th>\n",
       "      <th>საქმიანობის კოდი NACE Rev.2</th>\n",
       "      <th>საქმიანობის დასახელება NACE Rev.2</th>\n",
       "      <th>პარტნიორი</th>\n",
       "      <th>ხელმძღვანელი</th>\n",
       "      <th>ტელეფონი</th>\n",
       "      <th>ელფოსტა</th>\n",
       "      <th>საკუთრების ფორმა</th>\n",
       "      <th>აქტიური ეკონომიკური სუბიექტები</th>\n",
       "      <th>ბიზნესის ზომა</th>\n",
       "    </tr>\n",
       "  </thead>\n",
       "  <tbody>\n",
       "    <tr>\n",
       "      <th>0</th>\n",
       "      <td>100015680</td>\n",
       "      <td>6.200100e+10</td>\n",
       "      <td>იმ</td>\n",
       "      <td>ზურაბ შელეგია</td>\n",
       "      <td>ქ. თბილისი</td>\n",
       "      <td>ნაძალადევის რაიონი</td>\n",
       "      <td>NaN</td>\n",
       "      <td>NaN</td>\n",
       "      <td>ქ. თბილისის ნაძალადევის რაიონში / მანჯგალაძის 29</td>\n",
       "      <td>გურია</td>\n",
       "      <td>...</td>\n",
       "      <td>ოზურგეთის რაიონში/დაბ. ურეკიƒ.“დდ„დ‰დˆ</td>\n",
       "      <td>47.11.0</td>\n",
       "      <td>საცალო ვაჭრობა არასპეციალიზებულ მაღაზიებში, უპ...</td>\n",
       "      <td>ზურაბ შელეგია - 100</td>\n",
       "      <td>ზურაბ შელეგია</td>\n",
       "      <td>NaN</td>\n",
       "      <td>NaN</td>\n",
       "      <td>კერძო ადგილობრივი საკუთრება</td>\n",
       "      <td>NaN</td>\n",
       "      <td>NaN</td>\n",
       "    </tr>\n",
       "    <tr>\n",
       "      <th>1</th>\n",
       "      <td>100019383</td>\n",
       "      <td>6.200100e+10</td>\n",
       "      <td>იმ</td>\n",
       "      <td>მარინე ჭელიძე</td>\n",
       "      <td>ქ. თბილისი</td>\n",
       "      <td>ნაძალადევის რაიონი</td>\n",
       "      <td>NaN</td>\n",
       "      <td>NaN</td>\n",
       "      <td>ქ. თბილისის ნაძალადევის რაიონში / სანზონა კ.6,ბ.1</td>\n",
       "      <td>გურია</td>\n",
       "      <td>...</td>\n",
       "      <td>NaN</td>\n",
       "      <td>47.11.0</td>\n",
       "      <td>საცალო ვაჭრობა არასპეციალიზებულ მაღაზიებში, უპ...</td>\n",
       "      <td>მარინე ჭელიძე - 100</td>\n",
       "      <td>მარინე ჭელიძე</td>\n",
       "      <td>NaN</td>\n",
       "      <td>NaN</td>\n",
       "      <td>კერძო ადგილობრივი საკუთრება</td>\n",
       "      <td>NaN</td>\n",
       "      <td>NaN</td>\n",
       "    </tr>\n",
       "    <tr>\n",
       "      <th>2</th>\n",
       "      <td>100085300</td>\n",
       "      <td>3.300100e+10</td>\n",
       "      <td>იმ</td>\n",
       "      <td>დავით ანთაძე</td>\n",
       "      <td>გურია</td>\n",
       "      <td>ოზურგეთის მუნიციპალიტეტი</td>\n",
       "      <td>ბახვის თემის საკრებულო</td>\n",
       "      <td>NaN</td>\n",
       "      <td>ბახვის თემის საკრებულო</td>\n",
       "      <td>გურია</td>\n",
       "      <td>...</td>\n",
       "      <td>ბახვის თემის საკრებულო</td>\n",
       "      <td>NaN</td>\n",
       "      <td>NaN</td>\n",
       "      <td>დავით ანთაძე - 100</td>\n",
       "      <td>დავით ანთაძე</td>\n",
       "      <td>NaN</td>\n",
       "      <td>NaN</td>\n",
       "      <td>კერძო ადგილობრივი საკუთრება</td>\n",
       "      <td>NaN</td>\n",
       "      <td>NaN</td>\n",
       "    </tr>\n",
       "  </tbody>\n",
       "</table>\n",
       "<p>3 rows × 23 columns</p>\n",
       "</div>"
      ],
      "text/plain": [
       "   საიდენტიფიკაციო ნომერი  პირადი ნომერი ორგანიზაციულ-სამართლებრივი ფორმა  \\\n",
       "0               100015680   6.200100e+10                               იმ   \n",
       "1               100019383   6.200100e+10                               იმ   \n",
       "2               100085300   3.300100e+10                               იმ   \n",
       "\n",
       "  სუბიექტის დასახელება რეგიონი (იურიდიული) მუნიციპალიტეტი/ქალაქი (იურიდიული)  \\\n",
       "0        ზურაბ შელეგია          ქ. თბილისი                ნაძალადევის რაიონი   \n",
       "1        მარინე ჭელიძე          ქ. თბილისი                ნაძალადევის რაიონი   \n",
       "2         დავით ანთაძე               გურია          ოზურგეთის მუნიციპალიტეტი   \n",
       "\n",
       "  დაბის/თემის/სოფლის საკრებულო (იურიდიული) დაბა/სოფელი (იურიდიული)  \\\n",
       "0                                      NaN                     NaN   \n",
       "1                                      NaN                     NaN   \n",
       "2                   ბახვის თემის საკრებულო                     NaN   \n",
       "\n",
       "                                 იურიდიული მისამართი რეგიონი (ფაქტობრივი)  \\\n",
       "0   ქ. თბილისის ნაძალადევის რაიონში / მანჯგალაძის 29                გურია   \n",
       "1  ქ. თბილისის ნაძალადევის რაიონში / სანზონა კ.6,ბ.1                გურია   \n",
       "2                             ბახვის თემის საკრებულო                გურია   \n",
       "\n",
       "   ...                     ფაქტობრივი მისამართი საქმიანობის კოდი NACE Rev.2  \\\n",
       "0  ...  ოზურგეთის რაიონში/დაბ. ურეკიƒ.“დდ„დ‰დˆ                     47.11.0   \n",
       "1  ...                                      NaN                     47.11.0   \n",
       "2  ...                   ბახვის თემის საკრებულო                         NaN   \n",
       "\n",
       "                   საქმიანობის დასახელება NACE Rev.2            პარტნიორი  \\\n",
       "0  საცალო ვაჭრობა არასპეციალიზებულ მაღაზიებში, უპ...  ზურაბ შელეგია - 100   \n",
       "1  საცალო ვაჭრობა არასპეციალიზებულ მაღაზიებში, უპ...  მარინე ჭელიძე - 100   \n",
       "2                                                NaN   დავით ანთაძე - 100   \n",
       "\n",
       "    ხელმძღვანელი ტელეფონი ელფოსტა              საკუთრების ფორმა  \\\n",
       "0  ზურაბ შელეგია      NaN     NaN  კერძო ადგილობრივი საკუთრება    \n",
       "1  მარინე ჭელიძე      NaN     NaN  კერძო ადგილობრივი საკუთრება    \n",
       "2   დავით ანთაძე      NaN     NaN  კერძო ადგილობრივი საკუთრება    \n",
       "\n",
       "  აქტიური ეკონომიკური სუბიექტები ბიზნესის ზომა  \n",
       "0                            NaN           NaN  \n",
       "1                            NaN           NaN  \n",
       "2                            NaN           NaN  \n",
       "\n",
       "[3 rows x 23 columns]"
      ]
     },
     "execution_count": 151,
     "metadata": {},
     "output_type": "execute_result"
    }
   ],
   "source": [
    "data.head(3\n",
    "          )"
   ]
  },
  {
   "cell_type": "code",
   "execution_count": 152,
   "id": "6798a55d",
   "metadata": {},
   "outputs": [],
   "source": [
    "data = data[['საიდენტიფიკაციო ნომერი',\n",
    "             'პირადი ნომერი',\n",
    "             'დაბის/თემის/სოფლის საკრებულო (ფაქტობრივი)',\n",
    "             'ორგანიზაციულ-სამართლებრივი ფორმა',\n",
    "             'სუბიექტის დასახელება','ფაქტობრივი მისამართი',\n",
    "             'საქმიანობის დასახელება NACE Rev.2',\n",
    "             'აქტიური ეკონომიკური სუბიექტები',\n",
    "              'ბიზნესის ზომა']]"
   ]
  },
  {
   "cell_type": "code",
   "execution_count": 153,
   "id": "0a671d32",
   "metadata": {},
   "outputs": [
    {
     "data": {
      "text/html": [
       "<div>\n",
       "<style scoped>\n",
       "    .dataframe tbody tr th:only-of-type {\n",
       "        vertical-align: middle;\n",
       "    }\n",
       "\n",
       "    .dataframe tbody tr th {\n",
       "        vertical-align: top;\n",
       "    }\n",
       "\n",
       "    .dataframe thead th {\n",
       "        text-align: right;\n",
       "    }\n",
       "</style>\n",
       "<table border=\"1\" class=\"dataframe\">\n",
       "  <thead>\n",
       "    <tr style=\"text-align: right;\">\n",
       "      <th></th>\n",
       "      <th>საიდენტიფიკაციო ნომერი</th>\n",
       "      <th>პირადი ნომერი</th>\n",
       "      <th>დაბის/თემის/სოფლის საკრებულო (ფაქტობრივი)</th>\n",
       "      <th>ორგანიზაციულ-სამართლებრივი ფორმა</th>\n",
       "      <th>სუბიექტის დასახელება</th>\n",
       "      <th>ფაქტობრივი მისამართი</th>\n",
       "      <th>საქმიანობის დასახელება NACE Rev.2</th>\n",
       "      <th>აქტიური ეკონომიკური სუბიექტები</th>\n",
       "      <th>ბიზნესის ზომა</th>\n",
       "    </tr>\n",
       "  </thead>\n",
       "  <tbody>\n",
       "    <tr>\n",
       "      <th>0</th>\n",
       "      <td>100015680</td>\n",
       "      <td>6.200100e+10</td>\n",
       "      <td>NaN</td>\n",
       "      <td>იმ</td>\n",
       "      <td>ზურაბ შელეგია</td>\n",
       "      <td>ოზურგეთის რაიონში/დაბ. ურეკიƒ.“დდ„დ‰დˆ</td>\n",
       "      <td>საცალო ვაჭრობა არასპეციალიზებულ მაღაზიებში, უპ...</td>\n",
       "      <td>NaN</td>\n",
       "      <td>NaN</td>\n",
       "    </tr>\n",
       "    <tr>\n",
       "      <th>1</th>\n",
       "      <td>100019383</td>\n",
       "      <td>6.200100e+10</td>\n",
       "      <td>ურეკის სადაბო საკრებულო</td>\n",
       "      <td>იმ</td>\n",
       "      <td>მარინე ჭელიძე</td>\n",
       "      <td>NaN</td>\n",
       "      <td>საცალო ვაჭრობა არასპეციალიზებულ მაღაზიებში, უპ...</td>\n",
       "      <td>NaN</td>\n",
       "      <td>NaN</td>\n",
       "    </tr>\n",
       "    <tr>\n",
       "      <th>2</th>\n",
       "      <td>100085300</td>\n",
       "      <td>3.300100e+10</td>\n",
       "      <td>ბახვის თემის საკრებულო</td>\n",
       "      <td>იმ</td>\n",
       "      <td>დავით ანთაძე</td>\n",
       "      <td>ბახვის თემის საკრებულო</td>\n",
       "      <td>NaN</td>\n",
       "      <td>NaN</td>\n",
       "      <td>NaN</td>\n",
       "    </tr>\n",
       "    <tr>\n",
       "      <th>3</th>\n",
       "      <td>100096389</td>\n",
       "      <td>3.300101e+10</td>\n",
       "      <td>NaN</td>\n",
       "      <td>იმ</td>\n",
       "      <td>სოსო სადრაძე</td>\n",
       "      <td>შემოქმედის</td>\n",
       "      <td>სხვა ხილის, კენკროვნების და კაკლისებრების მოყვანა</td>\n",
       "      <td>NaN</td>\n",
       "      <td>NaN</td>\n",
       "    </tr>\n",
       "  </tbody>\n",
       "</table>\n",
       "</div>"
      ],
      "text/plain": [
       "   საიდენტიფიკაციო ნომერი  პირადი ნომერი  \\\n",
       "0               100015680   6.200100e+10   \n",
       "1               100019383   6.200100e+10   \n",
       "2               100085300   3.300100e+10   \n",
       "3               100096389   3.300101e+10   \n",
       "\n",
       "  დაბის/თემის/სოფლის საკრებულო (ფაქტობრივი) ორგანიზაციულ-სამართლებრივი ფორმა  \\\n",
       "0                                       NaN                               იმ   \n",
       "1                   ურეკის სადაბო საკრებულო                               იმ   \n",
       "2                    ბახვის თემის საკრებულო                               იმ   \n",
       "3                                       NaN                               იმ   \n",
       "\n",
       "  სუბიექტის დასახელება                     ფაქტობრივი მისამართი  \\\n",
       "0        ზურაბ შელეგია  ოზურგეთის რაიონში/დაბ. ურეკიƒ.“დდ„დ‰დˆ   \n",
       "1        მარინე ჭელიძე                                      NaN   \n",
       "2         დავით ანთაძე                   ბახვის თემის საკრებულო   \n",
       "3         სოსო სადრაძე                               შემოქმედის   \n",
       "\n",
       "                   საქმიანობის დასახელება NACE Rev.2  \\\n",
       "0  საცალო ვაჭრობა არასპეციალიზებულ მაღაზიებში, უპ...   \n",
       "1  საცალო ვაჭრობა არასპეციალიზებულ მაღაზიებში, უპ...   \n",
       "2                                                NaN   \n",
       "3  სხვა ხილის, კენკროვნების და კაკლისებრების მოყვანა   \n",
       "\n",
       "  აქტიური ეკონომიკური სუბიექტები ბიზნესის ზომა  \n",
       "0                            NaN           NaN  \n",
       "1                            NaN           NaN  \n",
       "2                            NaN           NaN  \n",
       "3                            NaN           NaN  "
      ]
     },
     "execution_count": 153,
     "metadata": {},
     "output_type": "execute_result"
    }
   ],
   "source": [
    "data.head(4)"
   ]
  },
  {
   "cell_type": "code",
   "execution_count": 154,
   "id": "821e5730",
   "metadata": {},
   "outputs": [],
   "source": [
    "data = data[(data['დაბის/თემის/სოფლის საკრებულო (ფაქტობრივი)'].str.contains('ქ. ოზურგეთი', na=False)) ]\n"
   ]
  },
  {
   "cell_type": "code",
   "execution_count": 155,
   "id": "53d22e5e",
   "metadata": {},
   "outputs": [],
   "source": [
    "data = data[~(data['ფაქტობრივი მისამართი'].isnull())]\n"
   ]
  },
  {
   "cell_type": "code",
   "execution_count": 156,
   "id": "c0efc799",
   "metadata": {},
   "outputs": [],
   "source": [
    "def clean_text(arg):\n",
    "    cleaned = re.sub(r'[^\\w\\s]',' ',arg)\n",
    "    return cleaned"
   ]
  },
  {
   "cell_type": "code",
   "execution_count": 157,
   "id": "93ae7658",
   "metadata": {},
   "outputs": [],
   "source": [
    "data['ნომერი'] = data['ფაქტობრივი მისამართი'].apply(lambda x: \"\".join([i for i in x if i.isnumeric()]))"
   ]
  },
  {
   "cell_type": "code",
   "execution_count": 158,
   "id": "bd1cacae",
   "metadata": {},
   "outputs": [],
   "source": [
    "data[\"ქუჩა\"] = data[\"ფაქტობრივი მისამართი\"].apply(clean_text)"
   ]
  },
  {
   "cell_type": "code",
   "execution_count": 159,
   "id": "602ea276",
   "metadata": {},
   "outputs": [],
   "source": [
    "data['ქუჩა'] = data['ქუჩა'].apply(lambda x: \" \".join([re.sub('\\d+', '',i)  for i in x ]))"
   ]
  },
  {
   "cell_type": "code",
   "execution_count": 160,
   "id": "33ff7649",
   "metadata": {},
   "outputs": [],
   "source": [
    "data['ქუჩა'] = data['ქუჩა'].apply(lambda x: \" \".join([re.sub(r'\\\\N', '',i)  for i in x ]))"
   ]
  },
  {
   "cell_type": "code",
   "execution_count": 161,
   "id": "fca29efd",
   "metadata": {},
   "outputs": [],
   "source": [
    "data['ქუჩა'] =data['ქუჩა'].apply(lambda x: ''.join([i for i in x if i != 'N']))"
   ]
  },
  {
   "cell_type": "code",
   "execution_count": 162,
   "id": "291bc41f",
   "metadata": {},
   "outputs": [],
   "source": [
    "data['ქუჩა'] = data['ქუჩა'].apply(lambda x: ' '.join([i for i in x.split() if i.isnumeric() or len(i) >2]))"
   ]
  },
  {
   "cell_type": "code",
   "execution_count": 163,
   "id": "8d852175",
   "metadata": {},
   "outputs": [],
   "source": [
    "data.to_excel(\"test.xlsx\", index=False)"
   ]
  }
 ],
 "metadata": {
  "kernelspec": {
   "display_name": ".DS_beginner",
   "language": "python",
   "name": "python3"
  },
  "language_info": {
   "codemirror_mode": {
    "name": "ipython",
    "version": 3
   },
   "file_extension": ".py",
   "mimetype": "text/x-python",
   "name": "python",
   "nbconvert_exporter": "python",
   "pygments_lexer": "ipython3",
   "version": "3.11.6"
  }
 },
 "nbformat": 4,
 "nbformat_minor": 5
}
